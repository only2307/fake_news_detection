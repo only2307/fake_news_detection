{
 "cells": [
  {
   "cell_type": "markdown",
   "metadata": {
    "id": "dPMvkK0qvfd2"
   },
   "source": [
    "# Thư viện"
   ]
  },
  {
   "cell_type": "code",
   "execution_count": 1,
   "metadata": {
    "id": "zTEevG15bB4D"
   },
   "outputs": [],
   "source": [
    "import pandas as pd\n",
    "import numpy as np\n",
    "import matplotlib.pyplot as plt\n",
    "import regex as re\n",
    "import csv\n",
    "import requests\n",
    "import json\n",
    "\n",
    "import preprocessing\n",
    "from preprocessing import *"
   ]
  },
  {
   "cell_type": "markdown",
   "metadata": {
    "id": "M1yDJyvEv45C"
   },
   "source": [
    "# Tiền xử lý dữ liệu"
   ]
  },
  {
   "cell_type": "markdown",
   "metadata": {
    "id": "v1U-r0KOv7ig"
   },
   "source": [
    "Đọc dữ liệu [`vn_news_223_tdlfr.csv`](https://raw.githubusercontent.com/thanhhocse96/VFND-vietnamese-fake-news-datasets/master/CSV/vn_news_223_tdlfr.csv)"
   ]
  },
  {
   "cell_type": "code",
   "execution_count": 2,
   "metadata": {
    "colab": {
     "base_uri": "https://localhost:8080/"
    },
    "id": "XMhnR4YcTBnh",
    "outputId": "8397f121-7db7-42f5-fa6b-0090b85a54e7"
   },
   "outputs": [
    {
     "name": "stderr",
     "output_type": "stream",
     "text": [
      "--2022-11-25 16:44:34--  https://raw.githubusercontent.com/thanhhocse96/VFND-vietnamese-fake-news-datasets/master/CSV/vn_news_223_tdlfr.csv\n",
      "Resolving raw.githubusercontent.com (raw.githubusercontent.com)... 185.199.110.133, 185.199.111.133, 185.199.108.133, ...\n",
      "Connecting to raw.githubusercontent.com (raw.githubusercontent.com)|185.199.110.133|:443... connected.\n",
      "HTTP request sent, awaiting response... 200 OK\n",
      "Length: 751942 (734K) [text/plain]\n",
      "Saving to: 'data.csv'\n",
      "\n",
      "     0K .......... .......... .......... .......... ..........  6%  966K 1s\n",
      "    50K .......... .......... .......... .......... .......... 13% 1.36M 1s\n",
      "   100K .......... .......... .......... .......... .......... 20% 1.17M 1s\n",
      "   150K .......... .......... .......... .......... .......... 27% 1.33M 0s\n",
      "   200K .......... .......... .......... .......... .......... 34% 4.15M 0s\n",
      "   250K .......... .......... .......... .......... .......... 40% 2.89M 0s\n",
      "   300K .......... .......... .......... .......... .......... 47% 2.66M 0s\n",
      "   350K .......... .......... .......... .......... .......... 54% 4.44M 0s\n",
      "   400K .......... .......... .......... .......... .......... 61% 2.06M 0s\n",
      "   450K .......... .......... .......... .......... .......... 68% 55.7M 0s\n",
      "   500K .......... .......... .......... .......... .......... 74% 2.41M 0s\n",
      "   550K .......... .......... .......... .......... .......... 81% 6.35M 0s\n",
      "   600K .......... .......... .......... .......... .......... 88% 1.04M 0s\n",
      "   650K .......... .......... .......... .......... .......... 95% 1.24M 0s\n",
      "   700K .......... .......... .......... ....                 100% 79.6M=0.4s\n",
      "\n",
      "2022-11-25 16:44:35 (1.97 MB/s) - 'data.csv' saved [751942/751942]\n",
      "\n"
     ]
    }
   ],
   "source": [
    "!wget https://raw.githubusercontent.com/thanhhocse96/VFND-vietnamese-fake-news-datasets/master/CSV/vn_news_223_tdlfr.csv -O data.csv"
   ]
  },
  {
   "cell_type": "code",
   "execution_count": 3,
   "metadata": {
    "id": "SNmZ8sSJwQXz"
   },
   "outputs": [],
   "source": [
    "def read_data(csv_file_path):\n",
    "    f = open(csv_file_path, encoding=\"utf-8\")\n",
    "    csv_reader = csv.reader(f, delimiter=',')\n",
    "    line_count = 0\n",
    "    raw_sentence = []\n",
    "    raw_domain = []\n",
    "    raw_label = []\n",
    "    for row in csv_reader:\n",
    "        if line_count == 0:\n",
    "            line_count += 1\n",
    "            continue\n",
    "        raw_sentence.append(row[0])\n",
    "        raw_domain.append(row[1])\n",
    "        raw_label.append(row[2])\n",
    "        line_count += 1\n",
    "    f.close()\n",
    "    return raw_sentence, raw_domain, raw_label\n",
    "# raw_doc, raw_domain, raw_label = read_data('data.csv')"
   ]
  },
  {
   "cell_type": "markdown",
   "metadata": {
    "id": "5QS8G4bYwohN"
   },
   "source": [
    "Thông tin về dữ liệu"
   ]
  },
  {
   "cell_type": "code",
   "execution_count": 4,
   "metadata": {
    "id": "alG8F5vHTZbZ"
   },
   "outputs": [],
   "source": [
    "df = pd.read_csv('data.csv')"
   ]
  },
  {
   "cell_type": "code",
   "execution_count": 5,
   "metadata": {
    "colab": {
     "base_uri": "https://localhost:8080/"
    },
    "id": "Nru4W0lAwsZt",
    "outputId": "d3808b7d-97e9-4df5-de0b-5cadcd37ed38"
   },
   "outputs": [
    {
     "name": "stdout",
     "output_type": "stream",
     "text": [
      "Dữ liệu có 223 dòng và 3 cột.\n"
     ]
    }
   ],
   "source": [
    "print(f'Dữ liệu có {df.shape[0]} dòng và {df.shape[1]} cột.')"
   ]
  },
  {
   "cell_type": "code",
   "execution_count": 6,
   "metadata": {
    "colab": {
     "base_uri": "https://localhost:8080/"
    },
    "id": "IlCyA4PRw35C",
    "outputId": "b2dcac3b-a6f9-4103-9eb4-c7c6ac93ac82"
   },
   "outputs": [
    {
     "name": "stdout",
     "output_type": "stream",
     "text": [
      "Dữ liệu KHÔNG CÓ dữ liệu trùng.\n"
     ]
    }
   ],
   "source": [
    "print(f'Dữ liệu {\"KHÔNG CÓ\" if all(df.duplicated()) == False else \"CÓ\"} dữ liệu trùng.')"
   ]
  },
  {
   "cell_type": "markdown",
   "metadata": {
    "id": "s4k8_Z06wrg6"
   },
   "source": [
    "Phân bố các `label`"
   ]
  },
  {
   "cell_type": "code",
   "execution_count": 7,
   "metadata": {
    "colab": {
     "base_uri": "https://localhost:8080/"
    },
    "id": "V_-x1RmL2mYK",
    "outputId": "ef35405f-02bf-4dad-f5ff-abeaf9af5311"
   },
   "outputs": [
    {
     "data": {
      "text/plain": [
       "0    123\n",
       "1    100\n",
       "Name: label, dtype: int64"
      ]
     },
     "execution_count": 7,
     "metadata": {},
     "output_type": "execute_result"
    }
   ],
   "source": [
    "#x = df['label'].unique()\n",
    "y = df['label'].value_counts()\n",
    "y"
   ]
  },
  {
   "cell_type": "code",
   "execution_count": 8,
   "metadata": {
    "colab": {
     "base_uri": "https://localhost:8080/",
     "height": 279
    },
    "id": "Dprkx7a2zT5K",
    "outputId": "bf5eed5b-608f-4059-fca4-113dd900bd48"
   },
   "outputs": [
    {
     "data": {
      "image/png": "[encoded data removed]",
      "text/plain": [
       "<Figure size 640x480 with 1 Axes>"
      ]
     },
     "metadata": {},
     "output_type": "display_data"
    }
   ],
   "source": [
    "ax = df['label'].value_counts().plot(kind='bar', xlabel=\"label\", ylabel=\"freq\", rot=0, color=\"green\")\n",
    "for p in ax.patches:\n",
    "    ax.annotate(str(p.get_height()), (p.get_x() * 1.005, p.get_height() * 1.005))"
   ]
  },
  {
   "cell_type": "markdown",
   "metadata": {
    "id": "vBxnlsKIPVF6"
   },
   "source": [
    "## Chuyển về unicode"
   ]
  },
  {
   "cell_type": "code",
   "execution_count": 9,
   "metadata": {
    "id": "KPaxWJxsPpU-"
   },
   "outputs": [],
   "source": [
    "uniChars = \"àáảãạâầấẩẫậăằắẳẵặèéẻẽẹêềếểễệđìíỉĩịòóỏõọôồốổỗộơờớởỡợùúủũụưừứửữựỳýỷỹỵÀÁẢÃẠÂẦẤẨẪẬĂẰẮẲẴẶÈÉẺẼẸÊỀẾỂỄỆĐÌÍỈĨỊÒÓỎÕỌÔỒỐỔỖỘƠỜỚỞỠỢÙÚỦŨỤƯỪỨỬỮỰỲÝỶỸỴÂĂĐÔƠƯ\"\n",
    "unsignChars = \"aaaaaaaaaaaaaaaaaeeeeeeeeeeediiiiiooooooooooooooooouuuuuuuuuuuyyyyyAAAAAAAAAAAAAAAAAEEEEEEEEEEEDIIIOOOOOOOOOOOOOOOOOOOUUUUUUUUUUUYYYYYAADOOU\"\n",
    "vowel_board = [['a', 'à', 'á', 'ả', 'ã', 'ạ', 'a'],\n",
    "                  ['ă', 'ằ', 'ắ', 'ẳ', 'ẵ', 'ặ', 'aw'],\n",
    "                  ['â', 'ầ', 'ấ', 'ẩ', 'ẫ', 'ậ', 'aa'],\n",
    "                  ['e', 'è', 'é', 'ẻ', 'ẽ', 'ẹ', 'e'],\n",
    "                  ['ê', 'ề', 'ế', 'ể', 'ễ', 'ệ', 'ee'],\n",
    "                  ['i', 'ì', 'í', 'ỉ', 'ĩ', 'ị', 'i'],\n",
    "                  ['o', 'ò', 'ó', 'ỏ', 'õ', 'ọ', 'o'],\n",
    "                  ['ô', 'ồ', 'ố', 'ổ', 'ỗ', 'ộ', 'oo'],\n",
    "                  ['ơ', 'ờ', 'ớ', 'ở', 'ỡ', 'ợ', 'ow'],\n",
    "                  ['u', 'ù', 'ú', 'ủ', 'ũ', 'ụ', 'u'],\n",
    "                  ['ư', 'ừ', 'ứ', 'ử', 'ữ', 'ự', 'uw'],\n",
    "                  ['y', 'ỳ', 'ý', 'ỷ', 'ỹ', 'ỵ', 'y']]\n",
    "bang_ky_tu_dau = ['', 'f', 's', 'r', 'x', 'j']\n",
    "\n",
    "vowel_to_ids = {}"
   ]
  },
  {
   "cell_type": "code",
   "execution_count": 10,
   "metadata": {
    "id": "Kp4C5UFmPdzY"
   },
   "outputs": [],
   "source": [
    "def loaddicchar():\n",
    "    dic = {}\n",
    "    char1252 = 'à|á|ả|ã|ạ|ầ|ấ|ẩ|ẫ|ậ|ằ|ắ|ẳ|ẵ|ặ|è|é|ẻ|ẽ|ẹ|ề|ế|ể|ễ|ệ|ì|í|ỉ|ĩ|ị|ò|ó|ỏ|õ|ọ|ồ|ố|ổ|ỗ|ộ|ờ|ớ|ở|ỡ|ợ|ù|ú|ủ|ũ|ụ|ừ|ứ|ử|ữ|ự|ỳ|ý|ỷ|ỹ|ỵ|À|Á|Ả|Ã|Ạ|Ầ|Ấ|Ẩ|Ẫ|Ậ|Ằ|Ắ|Ẳ|Ẵ|Ặ|È|É|Ẻ|Ẽ|Ẹ|Ề|Ế|Ể|Ễ|Ệ|Ì|Í|Ỉ|Ĩ|Ị|Ò|Ó|Ỏ|Õ|Ọ|Ồ|Ố|Ổ|Ỗ|Ộ|Ờ|Ớ|Ở|Ỡ|Ợ|Ù|Ú|Ủ|Ũ|Ụ|Ừ|Ứ|Ử|Ữ|Ự|Ỳ|Ý|Ỷ|Ỹ|Ỵ'.split(\n",
    "        '|')\n",
    "    charutf8 = \"à|á|ả|ã|ạ|ầ|ấ|ẩ|ẫ|ậ|ằ|ắ|ẳ|ẵ|ặ|è|é|ẻ|ẽ|ẹ|ề|ế|ể|ễ|ệ|ì|í|ỉ|ĩ|ị|ò|ó|ỏ|õ|ọ|ồ|ố|ổ|ỗ|ộ|ờ|ớ|ở|ỡ|ợ|ù|ú|ủ|ũ|ụ|ừ|ứ|ử|ữ|ự|ỳ|ý|ỷ|ỹ|ỵ|À|Á|Ả|Ã|Ạ|Ầ|Ấ|Ẩ|Ẫ|Ậ|Ằ|Ắ|Ẳ|Ẵ|Ặ|È|É|Ẻ|Ẽ|Ẹ|Ề|Ế|Ể|Ễ|Ệ|Ì|Í|Ỉ|Ĩ|Ị|Ò|Ó|Ỏ|Õ|Ọ|Ồ|Ố|Ổ|Ỗ|Ộ|Ờ|Ớ|Ở|Ỡ|Ợ|Ù|Ú|Ủ|Ũ|Ụ|Ừ|Ứ|Ử|Ữ|Ự|Ỳ|Ý|Ỷ|Ỹ|Ỵ\".split(\n",
    "        '|')\n",
    "    for i in range(len(char1252)):\n",
    "        dic[char1252[i]] = charutf8[i]\n",
    "    return dic"
   ]
  },
  {
   "cell_type": "code",
   "execution_count": 11,
   "metadata": {
    "id": "RZH5Oq2DPZEg"
   },
   "outputs": [],
   "source": [
    "def convert_unicode(txt):\n",
    "    dicchar = loaddicchar()\n",
    "    return re.sub(\n",
    "        r'à|á|ả|ã|ạ|ầ|ấ|ẩ|ẫ|ậ|ằ|ắ|ẳ|ẵ|ặ|è|é|ẻ|ẽ|ẹ|ề|ế|ể|ễ|ệ|ì|í|ỉ|ĩ|ị|ò|ó|ỏ|õ|ọ|ồ|ố|ổ|ỗ|ộ|ờ|ớ|ở|ỡ|ợ|ù|ú|ủ|ũ|ụ|ừ|ứ|ử|ữ|ự|ỳ|ý|ỷ|ỹ|ỵ|À|Á|Ả|Ã|Ạ|Ầ|Ấ|Ẩ|Ẫ|Ậ|Ằ|Ắ|Ẳ|Ẵ|Ặ|È|É|Ẻ|Ẽ|Ẹ|Ề|Ế|Ể|Ễ|Ệ|Ì|Í|Ỉ|Ĩ|Ị|Ò|Ó|Ỏ|Õ|Ọ|Ồ|Ố|Ổ|Ỗ|Ộ|Ờ|Ớ|Ở|Ỡ|Ợ|Ù|Ú|Ủ|Ũ|Ụ|Ừ|Ứ|Ử|Ữ|Ự|Ỳ|Ý|Ỷ|Ỹ|Ỵ',\n",
    "        lambda x: dicchar[x.group()], txt)"
   ]
  },
  {
   "cell_type": "markdown",
   "metadata": {
    "id": "oSj76x_iPwt-"
   },
   "source": [
    "## Chuẩn hóa tiếng Việt"
   ]
  },
  {
   "cell_type": "code",
   "execution_count": 12,
   "metadata": {
    "id": "x9TETcNBP9P8"
   },
   "outputs": [],
   "source": [
    "# check if a word is in Vietnamese correct form\n",
    "def is_valid_vietnam_word(word):\n",
    "    chars = list(word)\n",
    "    vowel_index = -1\n",
    "    for index, char in enumerate(chars):\n",
    "        x, y = vowel_to_ids.get(char, (-1, -1))\n",
    "        if x != -1:\n",
    "            if vowel_index == -1:\n",
    "                vowel_index = index\n",
    "            else:\n",
    "                if index - vowel_index != 1:\n",
    "                    return False\n",
    "                vowel_index = index\n",
    "    return True"
   ]
  },
  {
   "cell_type": "code",
   "execution_count": 13,
   "metadata": {
    "id": "iJ3eJclsQI2o"
   },
   "outputs": [],
   "source": [
    "# vietnamese punctuation normalize\n",
    "def vietnamese_word_punctuate_normalization(word):\n",
    "    if not is_valid_vietnam_word(word):\n",
    "        return word\n",
    " \n",
    "    chars = list(word)\n",
    "    dau_cau = 0\n",
    "    vowel_index = []\n",
    "    qu_or_gi = False\n",
    "    for index, char in enumerate(chars):\n",
    "        x, y = vowel_to_ids.get(char, (-1, -1))\n",
    "        if x == -1:\n",
    "            continue\n",
    "        elif x == 9:  # check qu\n",
    "            if index != 0 and chars[index - 1] == 'q':\n",
    "                chars[index] = 'u'\n",
    "                qu_or_gi = True\n",
    "        elif x == 5:  # check gi\n",
    "            if index != 0 and chars[index - 1] == 'g':\n",
    "                chars[index] = 'i'\n",
    "                qu_or_gi = True\n",
    "        if y != 0:\n",
    "            dau_cau = y\n",
    "            chars[index] = vowel_board[x][0]\n",
    "        if not qu_or_gi or index != 1:\n",
    "            vowel_index.append(index)\n",
    "    if len(vowel_index) < 2:\n",
    "        if qu_or_gi:\n",
    "            if len(chars) == 2:\n",
    "                x, y = vowel_to_ids.get(chars[1])\n",
    "                chars[1] = vowel_board[x][dau_cau]\n",
    "            else:\n",
    "                x, y = vowel_to_ids.get(chars[2], (-1, -1))\n",
    "                if x != -1:\n",
    "                    chars[2] = vowel_board[x][dau_cau]\n",
    "                else:\n",
    "                    chars[1] = vowel_board[5][dau_cau] if chars[1] == 'i' else vowel_board[9][dau_cau]\n",
    "            return ''.join(chars)\n",
    "        return word\n",
    " \n",
    "    for index in vowel_index:\n",
    "        x, y = vowel_to_ids[chars[index]]\n",
    "        if x == 4 or x == 8:  # ê, ơ\n",
    "            chars[index] = vowel_board[x][dau_cau]\n",
    "            # for index2 in vowel_index:\n",
    "            #     if index2 != index:\n",
    "            #         x, y = vowel_to_ids[chars[index]]\n",
    "            #         chars[index2] = vowel_board[x][0]\n",
    "            return ''.join(chars)\n",
    " \n",
    "    if len(vowel_index) == 2:\n",
    "        if vowel_index[-1] == len(chars) - 1:\n",
    "            x, y = vowel_to_ids[chars[vowel_index[0]]]\n",
    "            chars[vowel_index[0]] = vowel_board[x][dau_cau]\n",
    "            # x, y = vowel_to_ids[chars[vowel_index[1]]]\n",
    "            # chars[vowel_index[1]] = vowel_board[x][0]\n",
    "        else:\n",
    "            # x, y = vowel_to_ids[chars[vowel_index[0]]]\n",
    "            # chars[vowel_index[0]] = vowel_board[x][0]\n",
    "            x, y = vowel_to_ids[chars[vowel_index[1]]]\n",
    "            chars[vowel_index[1]] = vowel_board[x][dau_cau]\n",
    "    else:\n",
    "        # x, y = vowel_to_ids[chars[vowel_index[0]]]\n",
    "        # chars[vowel_index[0]] = vowel_board[x][0]\n",
    "        x, y = vowel_to_ids[chars[vowel_index[1]]]\n",
    "        chars[vowel_index[1]] = vowel_board[x][dau_cau]\n",
    "        # x, y = vowel_to_ids[chars[vowel_index[2]]]\n",
    "        # chars[vowel_index[2]] = vowel_board[x][0]\n",
    "    return ''.join(chars)"
   ]
  },
  {
   "cell_type": "code",
   "execution_count": 14,
   "metadata": {
    "id": "2N5K9heDQU-X"
   },
   "outputs": [],
   "source": [
    "# convert sentence to old vietnamese typing\n",
    "def vietnamese_punctuation_normalization(sentence):\n",
    "    \"\"\"\n",
    "        Chuyển câu tiếng việt về chuẩn gõ dấu kiểu cũ.\n",
    "        :param sentence:\n",
    "        :return:\n",
    "        \"\"\"\n",
    "    sentence = sentence.lower()\n",
    "    words = sentence.split()\n",
    "    for index, word in enumerate(words):\n",
    "        cw = re.sub(r'(^\\p{P}*)([p{L}.]*\\p{L}+)(\\p{P}*$)', r'\\1/\\2/\\3', word).split('/')\n",
    "        # print(cw)\n",
    "        if len(cw) == 3:\n",
    "            cw[1] = vietnamese_word_punctuate_normalization(cw[1])\n",
    "        words[index] = ''.join(cw)\n",
    "    return ' '.join(words)"
   ]
  },
  {
   "cell_type": "markdown",
   "metadata": {
    "id": "4eWDbBRawe2j"
   },
   "source": [
    "## Loại bỏ stopwords"
   ]
  },
  {
   "cell_type": "code",
   "execution_count": 15,
   "metadata": {
    "colab": {
     "base_uri": "https://localhost:8080/"
    },
    "id": "s3-JAIsyA2_u",
    "outputId": "3a17fd0a-192d-4882-e4fa-f8ee8349e7a5"
   },
   "outputs": [
    {
     "name": "stderr",
     "output_type": "stream",
     "text": [
      "--2022-11-25 16:44:37--  https://raw.githubusercontent.com/stopwords/vietnamese-stopwords/master/vietnamese-stopwords-dash.txt\n",
      "Resolving raw.githubusercontent.com (raw.githubusercontent.com)... 185.199.110.133, 185.199.111.133, 185.199.108.133, ...\n",
      "Connecting to raw.githubusercontent.com (raw.githubusercontent.com)|185.199.110.133|:443... connected.\n",
      "HTTP request sent, awaiting response... 200 OK\n",
      "Length: 20475 (20K) [text/plain]\n",
      "Saving to: 'stopwords.txt'\n",
      "\n",
      "     0K .......... .........                                  100% 1.53M=0.01s\n",
      "\n",
      "2022-11-25 16:44:37 (1.53 MB/s) - 'stopwords.txt' saved [20475/20475]\n",
      "\n"
     ]
    }
   ],
   "source": [
    "# vietnamese stop-words\n",
    "# stopwords_url = 'https://raw.githubusercontent.com/stopwords/vietnamese-stopwords/master/vietnamese-stopwords-dash.txt'\n",
    "!wget https://raw.githubusercontent.com/stopwords/vietnamese-stopwords/master/vietnamese-stopwords-dash.txt -O stopwords.txt"
   ]
  },
  {
   "cell_type": "code",
   "execution_count": 16,
   "metadata": {
    "id": "mut8n98v-r2r"
   },
   "outputs": [],
   "source": [
    "def read_stopwords(file):\n",
    "  with open(file, 'r', encoding='UTF-8') as f:\n",
    "    stopwords = f.read().split('\\n')\n",
    "  return stopwords"
   ]
  },
  {
   "cell_type": "code",
   "execution_count": 17,
   "metadata": {
    "id": "FQnjcfIqOilQ"
   },
   "outputs": [],
   "source": [
    "def remove_stopwords(line):\n",
    "    stopword = read_stopwords('stopwords.txt')\n",
    "    words = []\n",
    "    for word in line.strip().split():\n",
    "        if word not in stopword:\n",
    "            words.append(word)\n",
    "    return ' '.join(words)"
   ]
  },
  {
   "cell_type": "markdown",
   "metadata": {
    "id": "RJSCbZ49Nu6n"
   },
   "source": [
    "## Tổng hợp các hàm tiền xử lý"
   ]
  },
  {
   "cell_type": "code",
   "execution_count": 18,
   "metadata": {
    "colab": {
     "base_uri": "https://localhost:8080/"
    },
    "id": "90nPLIQBRTXf",
    "outputId": "11e70d0a-15ad-449c-b107-315e6b8fafa7"
   },
   "outputs": [],
   "source": [
    "# !pip install underthesea\n",
    "from underthesea import word_tokenize"
   ]
  },
  {
   "cell_type": "code",
   "execution_count": 19,
   "metadata": {
    "id": "AAVIGO8QNtug"
   },
   "outputs": [],
   "source": [
    "def text_preprocess(document):\n",
    "    document = convert_unicode(document)\n",
    "    document = vietnamese_punctuation_normalization(document)\n",
    "    document = word_tokenize(document, format=\"text\")\n",
    "    document = document.lower()\n",
    "    document = re.sub(r'[^\\s\\wáàảãạăắằẳẵặâấầẩẫậéèẻẽẹêếềểễệóòỏõọôốồổỗộơớờởỡợíìỉĩịúùủũụưứừửữựýỳỷỹỵđ_]',' ',document)\n",
    "    document = re.sub(r'\\s+', ' ', document).strip()\n",
    "    document = remove_stopwords(document)\n",
    "    document = remove_accent(document)\n",
    "    return document"
   ]
  },
  {
   "cell_type": "markdown",
   "metadata": {
    "id": "teOvE3xbTkLE"
   },
   "source": [
    "## Xử lý dữ liệu"
   ]
  },
  {
   "cell_type": "code",
   "execution_count": 20,
   "metadata": {
    "colab": {
     "base_uri": "https://localhost:8080/"
    },
    "id": "nC-erU0zT6Ih",
    "outputId": "88171856-3f4f-426f-b7c5-0e582ca31591"
   },
   "outputs": [
    {
     "name": "stdout",
     "output_type": "stream",
     "text": [
      "{'tuoitre.vn': 4.94, 'giadinhtiepthi.com': 1.39, 'news.zing.vn': 4.72, 'thanhnien.vn': 4.66, 'dantri.com.vn': 5.26, 'baonuocmy.com': 0.48, 'dulich.vnexpress.net': 4.16, 'haiduong.tintuc.vn': 0.83, 'sohoa.vnexpress.net': 3.8, 'thoibao.today': 2.84, 'autoxe.net': 2.09, 'binhluan.biz': 1.71, 'baoangiang.com.vn': 3.04, 'vnexpress.net': 5.35, 'tinvn.info': 2.18, 'thegioitre.vn': 4.16, 'ipick.vn': 2.99, 'sorry.vn': 0.28, 'laodong.vn': 4.53, 'giaitri.vnexpress.net': 4.22, 'thethao.tuoitre.vn': 4.16, 'doisong.vnexpress.net': 3.09, 'thoibao.de': 3.43, 'kinhdoanh.vnexpress.net': 4.22, 'suckhoe.vnexpress.net': 3, 'gioitreviet.net': 2.03, 'phapluat.news': 1.56}\n"
     ]
    }
   ],
   "source": [
    "API_KEY=\"o080gsg4sko84s8k4owcs048g4kocc8ockos0ksg\" #API key to access pagerank website\n",
    "def get_page_rank(domains):\n",
    "    pr = dict()\n",
    "    domains = list(set(domains))\n",
    "    headers = {'API-OPR': API_KEY}\n",
    "    res_dict = {}\n",
    "    for domain in domains:\n",
    "        url = 'https://openpagerank.com/api/v1.0/getPageRank?domains%5B0%5D=' + domain\n",
    "        res = requests.get(url, headers=headers)\n",
    "        res = json.loads(res.text)\n",
    "        if res[\"response\"][0][\"status_code\"] == 200:\n",
    "            res_dict.update({res[\"response\"][0][\"domain\"]: res[\"response\"][0][\"page_rank_decimal\"]})\n",
    "\n",
    "        #print(res.text)\n",
    "    # uncomment 2 lines of code below to store page rank in json format\n",
    "    # with open(\"page_rank.json\", \"w\", encoding=\"utf-8\") as f:\n",
    "    #    json.dump(res_dict, f)\n",
    "    print(res_dict)\n",
    "    return res_dict\n",
    "\n",
    "# get domains in dataset\n",
    "domains = df['domain']\n",
    "pr_dict = get_page_rank(domains)"
   ]
  },
  {
   "cell_type": "code",
   "execution_count": 21,
   "metadata": {
    "colab": {
     "base_uri": "https://localhost:8080/"
    },
    "id": "s1gAPv_mTpaF",
    "outputId": "1305f525-d0e7-42f5-f741-b61cf9f2e7c4"
   },
   "outputs": [
    {
     "name": "stdout",
     "output_type": "stream",
     "text": [
      "[1.71, 0.0, 0.0, 0.0, 0.0, 1.39, 1.39, 0.0, 0.0, 3, 1.56, 1.56, 2.09, 1.56, 0.0, 4.16, 4.16, 0.0, 3.04, 2.84, 2.84, 0.83, 4.53, 0.28, 3.43, 3.43, 0.48, 2.84, 2.84, 2.84, 2.84, 2.18, 2.18, 2.18, 2.18, 2.18, 2.18, 2.18, 2.18, 2.18, 2.18, 2.18, 2.18, 2.18, 2.18, 2.18, 2.18, 2.18, 2.18, 2.18, 2.18, 2.18, 2.18, 2.18, 2.18, 2.18, 2.18, 2.18, 2.18, 2.18, 2.18, 2.18, 2.18, 2.18, 2.18, 2.18, 2.18, 2.18, 2.18, 2.18, 2.18, 2.18, 2.18, 2.18, 2.18, 2.18, 2.18, 2.18, 2.18, 2.18, 2.18, 2.18, 2.18, 2.18, 2.18, 2.18, 2.18, 2.18, 2.18, 2.18, 2.18, 2.18, 2.18, 2.18, 2.18, 2.18, 2.18, 2.18, 2.18, 0.0, 0.0, 4.72, 4.72, 4.72, 4.72, 4.72, 4.66, 5.35, 4.22, 5.35, 5.35, 5.35, 5.35, 5.35, 5.35, 5.35, 5.35, 5.35, 4.16, 4.94, 4.94, 4.94, 4.94, 4.66, 4.66, 5.35, 5.35, 5.35, 5.35, 4.72, 4.66, 5.35, 5.35, 5.35, 5.35, 5.35, 5.35, 5.35, 5.35, 5.35, 5.35, 5.35, 5.35, 5.35, 4.66, 5.35, 4.22, 5.35, 5.35, 5.35, 4.16, 5.35, 4.94, 5.35, 4.22, 5.35, 3.8, 5.35, 5.35, 5.35, 3.09, 3.09, 4.22, 5.35, 5.35, 5.35, 5.35, 5.35, 5.35, 5.35, 5.35, 5.35, 5.35, 5.35, 5.35, 5.35, 4.22, 5.35, 5.35, 5.35, 5.35, 5.35, 5.35, 5.35, 5.35, 5.35, 5.35, 5.35, 5.35, 5.35, 5.35, 5.35, 5.35, 5.35, 5.35, 5.35, 5.35, 5.35, 5.35, 5.35, 4.16, 4.16, 4.16, 4.16, 4.16, 4.16, 4.16, 4.16, 4.16, 5.26, 5.26, 5.26, 5.26, 5.26, 5.26, 5.26, 5.26, 5.26, 5.26, 5.26, 5.26, 5.26, 5.26]\n"
     ]
    }
   ],
   "source": [
    "# collect from dataset\n",
    "raw_doc, raw_domain, raw_label = read_data('data.csv')\n",
    "# extract page_rank that was scored before \n",
    "f = open(\"page_rank.json\", \"r\")\n",
    "pr = json.loads(''.join(f.readlines()))\n",
    "page_rank = []\n",
    "\n",
    "# convert raw_domain into points based on page_rank.json\n",
    "for dm in raw_domain:\n",
    "    try:\n",
    "        page_rank.append(pr[dm])\n",
    "    # if domain wasn't existed in page_rank.json, point of that domain would be assigned to 0\n",
    "    except KeyError as e:\n",
    "        page_rank.append(0.0)\n",
    "print(page_rank)"
   ]
  },
  {
   "cell_type": "code",
   "execution_count": 22,
   "metadata": {
    "id": "WgbV5ojqVq5e"
   },
   "outputs": [],
   "source": [
    "# Preprocess data\n",
    "preprocess_document = list(map(text_preprocess, raw_doc))\n",
    "# write preprocessed document to txt format for building streamlit app later\n",
    "with open('preprocess_document.txt', 'w') as f:\n",
    "    for item in preprocess_document:\n",
    "        f.write(\"%s\\n\" % item)"
   ]
  },
  {
   "cell_type": "markdown",
   "metadata": {
    "id": "TLpsfc6IjLuz"
   },
   "source": [
    "## Tokenizer & padding văn bản"
   ]
  },
  {
   "cell_type": "markdown",
   "metadata": {},
   "source": [
    "Nếu chạy file `.ipynb` trên colab thì không cần cài đặt `tensorflow` (do Colab đã có sẵn).\n",
    "Nếu hệ điều hành chưa có package `tensorflow` thì cài đặt qua package của pip hoặc conda trước khi chạy cell dưới nha."
   ]
  },
  {
   "cell_type": "code",
   "execution_count": 23,
   "metadata": {
    "colab": {
     "base_uri": "https://localhost:8080/"
    },
    "id": "1dWKQM4CjLCt",
    "outputId": "a278adb5-7ca4-48d3-c1d0-5d1651f052a8"
   },
   "outputs": [
    {
     "name": "stdout",
     "output_type": "stream",
     "text": [
      "<keras_preprocessing.text.Tokenizer object at 0x0000019069A20070>\n"
     ]
    }
   ],
   "source": [
    "from tensorflow.keras.preprocessing.text import Tokenizer\n",
    "from tensorflow.keras.preprocessing.sequence import pad_sequences\n",
    "\n",
    "tokenizer = Tokenizer(num_words=15000, \n",
    "                      oov_token='', \n",
    "                      filters='!\"#$%&()*+,-./:;<=>?@[\\\\]^`{|}~\\t\\n')\n",
    "#tokenize all data\n",
    "tokenizer.fit_on_texts(preprocess_document)\n",
    "\n",
    "print(tokenizer)\n",
    "\n",
    "#extract word_index - a dict contains ID and words, respectively\n",
    "word_index = tokenizer.word_index\n",
    "# print(word_index)"
   ]
  },
  {
   "cell_type": "code",
   "execution_count": 24,
   "metadata": {
    "id": "BWJaACzIkXOL"
   },
   "outputs": [],
   "source": [
    "# Convert preprocess_document into ID\n",
    "sequences_data = tokenizer.texts_to_sequences(preprocess_document)\n",
    "\n",
    "# Add padding, or eliminate data to: make document having a standard length\n",
    "sequences_data = pad_sequences(sequences_data, padding=\"post\")"
   ]
  },
  {
   "cell_type": "markdown",
   "metadata": {
    "id": "iH1F28bMk4wz"
   },
   "source": [
    "Ta chuẩn hóa dữ liệu theo kiểu chuẩn hóa min-max"
   ]
  },
  {
   "cell_type": "code",
   "execution_count": 25,
   "metadata": {
    "colab": {
     "base_uri": "https://localhost:8080/"
    },
    "id": "pj9-sRi7lA4Q",
    "outputId": "1930e98f-e413-4c1d-f88b-d47e5c5df446"
   },
   "outputs": [
    {
     "name": "stdout",
     "output_type": "stream",
     "text": [
      "(223, 839)\n"
     ]
    }
   ],
   "source": [
    "page_rank = np.array(page_rank).reshape(len(page_rank), 1)\n",
    "\n",
    "def normalization(array):\n",
    "    return (array - np.min(array)) / (np.max(array) - np.min(array))\n",
    "\n",
    "normalized_data = normalization(sequences_data)\n",
    "\n",
    "final_data = np.hstack((normalized_data,\n",
    "                        np.array(page_rank),\n",
    "                        np.array(raw_label).reshape(-1,1).astype(int)))\n",
    "\n",
    "print(final_data.shape)"
   ]
  },
  {
   "cell_type": "markdown",
   "metadata": {
    "id": "GN3wKDExle4L"
   },
   "source": [
    "`final_data` gồm 223 dòng (ứng với 223 dữ liệu), mỗi dòng gồm:\n",
    "- 837 giá trị (từ 0 đến 836) ứng với ID đã mã hóa.\n",
    "- Giá trị thứ 838 là điểm của domain.\n",
    "- Giá trị 839 là `raw_label`."
   ]
  },
  {
   "cell_type": "code",
   "execution_count": 26,
   "metadata": {
    "id": "SZyN1sbDlbbY"
   },
   "outputs": [],
   "source": [
    "np.set_printoptions(suppress=True)\n",
    "final_data\n",
    "np.savetxt('final_data.csv', final_data, delimiter=',')"
   ]
  },
  {
   "cell_type": "markdown",
   "metadata": {
    "id": "_nJiRD40mHID"
   },
   "source": [
    "# Build model"
   ]
  },
  {
   "cell_type": "markdown",
   "metadata": {
    "id": "viTAlwAzmKZg"
   },
   "source": [
    "## Train/test split"
   ]
  },
  {
   "cell_type": "code",
   "execution_count": 27,
   "metadata": {
    "colab": {
     "base_uri": "https://localhost:8080/"
    },
    "id": "rS3kcglYmGa-",
    "outputId": "4e73e4d3-1786-4bf1-b6c4-f748645c872c"
   },
   "outputs": [
    {
     "data": {
      "text/plain": [
       "((178, 838), (45, 838), 178, 45)"
      ]
     },
     "execution_count": 27,
     "metadata": {},
     "output_type": "execute_result"
    }
   ],
   "source": [
    "mydata = np.genfromtxt('final_data.csv', delimiter=',')\n",
    "X = mydata[:,:-1] \n",
    "y = mydata[:, -1] \n",
    "\n",
    "from sklearn.model_selection import train_test_split\n",
    "import pickle\n",
    "# train/test = 80/20\n",
    "X_train, X_test, y_train, y_test = train_test_split(X, y, test_size=0.2, random_state=50)\n",
    "\n",
    "X_train.shape, X_test.shape, len(y_train), len(y_test)"
   ]
  },
  {
   "cell_type": "markdown",
   "metadata": {
    "id": "t3sc5dTBm2W2"
   },
   "source": [
    "## Logistic Regression"
   ]
  },
  {
   "cell_type": "code",
   "execution_count": 28,
   "metadata": {
    "colab": {
     "base_uri": "https://localhost:8080/"
    },
    "id": "2-VMfP5Wm9p8",
    "outputId": "108395c2-633b-46ce-aa62-1af02d0377d3"
   },
   "outputs": [
    {
     "name": "stdout",
     "output_type": "stream",
     "text": [
      "Done training Linear Classifier in 0.05385470390319824 seconds.\n"
     ]
    }
   ],
   "source": [
    "from sklearn.pipeline import Pipeline\n",
    "from sklearn.feature_extraction.text import CountVectorizer\n",
    "from sklearn.feature_extraction.text import TfidfTransformer\n",
    "from sklearn.linear_model import LogisticRegression\n",
    "import time\n",
    "start_time = time.time()\n",
    "clf = LogisticRegression(solver='lbfgs', \n",
    "                         multi_class='auto', \n",
    "                         max_iter=10000).fit(X_train, y_train)\n",
    " \n",
    "train_time = time.time() - start_time\n",
    "print('Done training Linear Classifier in', train_time, 'seconds.')\n",
    "\n",
    "# Save model\n",
    "pickle.dump(clf, open(\"Models/linear_classifier.pkl\", 'wb'))"
   ]
  },
  {
   "cell_type": "code",
   "execution_count": 29,
   "metadata": {
    "colab": {
     "base_uri": "https://localhost:8080/"
    },
    "id": "E1wl4WGRnR6a",
    "outputId": "dc4f5215-0ebe-4a39-9ce4-3bf93f8ea508"
   },
   "outputs": [
    {
     "data": {
      "text/plain": [
       "(0.9887640449438202, 0.9333333333333333)"
      ]
     },
     "execution_count": 29,
     "metadata": {},
     "output_type": "execute_result"
    }
   ],
   "source": [
    "clf.score(X_train, y_train), clf.score(X_test,y_test)"
   ]
  },
  {
   "cell_type": "markdown",
   "metadata": {
    "id": "rEgxg70onmgO"
   },
   "source": [
    "# MLP Classifiers"
   ]
  },
  {
   "cell_type": "code",
   "execution_count": 30,
   "metadata": {
    "colab": {
     "base_uri": "https://localhost:8080/"
    },
    "id": "6Ohlh37nnpT3",
    "outputId": "dc5347f3-c171-47ac-daee-f5745d3b2d63"
   },
   "outputs": [
    {
     "name": "stdout",
     "output_type": "stream",
     "text": [
      "Iteration 1, loss = 0.63845392\n",
      "Iteration 2, loss = 0.46641306\n",
      "Iteration 3, loss = 0.33959836\n",
      "Iteration 4, loss = 0.23622127\n",
      "Iteration 5, loss = 0.14993111\n",
      "Iteration 6, loss = 0.07907109\n",
      "Iteration 7, loss = 0.07320930\n",
      "Iteration 8, loss = 0.04630250\n",
      "Iteration 9, loss = 0.03884992\n",
      "Iteration 10, loss = 0.02814287\n",
      "Iteration 11, loss = 0.02423091\n",
      "Iteration 12, loss = 0.01795197\n",
      "Iteration 13, loss = 0.01127806\n",
      "Iteration 14, loss = 0.00860574\n",
      "Iteration 15, loss = 0.00695247\n",
      "Iteration 16, loss = 0.00613871\n",
      "Iteration 17, loss = 0.00548066\n",
      "Iteration 18, loss = 0.00461970\n",
      "Iteration 19, loss = 0.00404666\n",
      "Iteration 20, loss = 0.00356691\n",
      "Iteration 21, loss = 0.00311436\n",
      "Iteration 22, loss = 0.00285769\n",
      "Iteration 23, loss = 0.00255930\n",
      "Iteration 24, loss = 0.00232195\n",
      "Iteration 25, loss = 0.00213231\n",
      "Iteration 26, loss = 0.00198290\n",
      "Iteration 27, loss = 0.00189212\n",
      "Iteration 28, loss = 0.00178679\n",
      "Iteration 29, loss = 0.00172967\n",
      "Iteration 30, loss = 0.00165970\n",
      "Iteration 31, loss = 0.00163261\n",
      "Iteration 32, loss = 0.00159074\n",
      "Iteration 33, loss = 0.00156388\n",
      "Iteration 34, loss = 0.00153921\n",
      "Iteration 35, loss = 0.00152169\n",
      "Iteration 36, loss = 0.00150393\n",
      "Iteration 37, loss = 0.00148466\n",
      "Iteration 38, loss = 0.00147225\n",
      "Iteration 39, loss = 0.00145996\n",
      "Training loss did not improve more than tol=0.000100 for 10 consecutive epochs. Stopping.\n",
      "Done training MLP Classifier in 21.720215559005737 seconds.\n"
     ]
    }
   ],
   "source": [
    "from sklearn.neural_network import MLPClassifier\n",
    "from sklearn.datasets import make_classification\n",
    "\n",
    "start_time = time.time()\n",
    "\n",
    "clf = MLPClassifier(hidden_layer_sizes=(2**11, 2**8, 2**4, 2**3),\n",
    "                    learning_rate='adaptive',\n",
    "                    batch_size=64,\n",
    "                    verbose=True,\n",
    "                    max_iter=100).fit(X_train, y_train)\n",
    "train_time = time.time() - start_time\n",
    "print('Done training MLP Classifier in', train_time, 'seconds.')\n",
    "\n",
    "pickle.dump(clf, open(\"Models/MLP.pkl\", 'wb'))\n",
    " "
   ]
  },
  {
   "cell_type": "code",
   "execution_count": 31,
   "metadata": {
    "colab": {
     "base_uri": "https://localhost:8080/"
    },
    "id": "xu4CeiJ8n1lU",
    "outputId": "57d6888f-74e9-4300-f223-45bd294d1659"
   },
   "outputs": [
    {
     "data": {
      "text/plain": [
       "(1.0, 0.8888888888888888)"
      ]
     },
     "execution_count": 31,
     "metadata": {},
     "output_type": "execute_result"
    }
   ],
   "source": [
    "clf.score(X_train,y_train), clf.score(X_test,y_test)"
   ]
  },
  {
   "cell_type": "markdown",
   "metadata": {
    "id": "54mcObOSn5cQ"
   },
   "source": [
    "## SVM"
   ]
  },
  {
   "cell_type": "code",
   "execution_count": 32,
   "metadata": {
    "colab": {
     "base_uri": "https://localhost:8080/"
    },
    "id": "BmRUFQNVn6-3",
    "outputId": "25410e04-9e36-41bf-f323-4dcc57d612db"
   },
   "outputs": [
    {
     "name": "stdout",
     "output_type": "stream",
     "text": [
      "Done training SVC Classifier in 0.016953229904174805 seconds.\n"
     ]
    }
   ],
   "source": [
    "from sklearn.svm import SVC\n",
    "start_time = time.time()\n",
    "\n",
    "# SVM with RBF kernel \n",
    "clf = SVC(kernel='rbf', gamma=0.001, C=1000).fit(X_train, y_train)\n",
    "train_time = time.time() - start_time\n",
    "print('Done training SVC Classifier in', train_time, 'seconds.')\n",
    "\n",
    "pickle.dump(clf, open('./Models/SVM_rbf_kernel.pkl', 'wb'))"
   ]
  },
  {
   "cell_type": "code",
   "execution_count": 33,
   "metadata": {
    "colab": {
     "base_uri": "https://localhost:8080/"
    },
    "id": "mOmoFfIjoEGC",
    "outputId": "f631e0e8-2f7c-4641-e7e7-3d39e6f8e500"
   },
   "outputs": [
    {
     "data": {
      "text/plain": [
       "(1.0, 0.9333333333333333)"
      ]
     },
     "execution_count": 33,
     "metadata": {},
     "output_type": "execute_result"
    }
   ],
   "source": [
    "clf.score(X_train,y_train), clf.score(X_test,y_test)"
   ]
  }
 ],
 "metadata": {
  "colab": {
   "provenance": []
  },
  "kernelspec": {
   "display_name": "Python 3 (ipykernel)",
   "language": "python",
   "name": "python3"
  },
  "language_info": {
   "codemirror_mode": {
    "name": "ipython",
    "version": 3
   },
   "file_extension": ".py",
   "mimetype": "text/x-python",
   "name": "python",
   "nbconvert_exporter": "python",
   "pygments_lexer": "ipython3",
   "version": "3.8.13"
  },
  "vscode": {
   "interpreter": {
    "hash": "75f664e96f1f8a5c948703ea7d157564400f3a8fe808c13030657b82a90b0c95"
   }
  }
 },
 "nbformat": 4,
 "nbformat_minor": 4
}
